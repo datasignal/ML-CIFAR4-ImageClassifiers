{
 "cells": [
  {
   "cell_type": "markdown",
   "metadata": {},
   "source": [
    "# Decision trees and random forest"
   ]
  },
  {
   "cell_type": "code",
   "execution_count": 1,
   "metadata": {},
   "outputs": [],
   "source": [
    "# WARNING: EXPENSIVE COMPUTING IF RUN_CALCULATION = True\n",
    "# Calculation has already been done and saved in FILEPATH file and are reloaded from the file in this notebook\n",
    "RUN_CALCULATION       = False\n",
    "TREE_GRID_FILEPATH    = 'saved_grid_search_results/decision_tree_grid.npy'\n",
    "FOREST_GRID_FILEPATH  = 'saved_grid_search_results/random_forest_grid.npy'\n",
    "TREE_MODEL_FILEPATH   = 'saved_best_models/decision_tree_model.npy'\n",
    "FOREST_MODEL_FILEPATH = 'saved_best_models/random_forest_model.npy'"
   ]
  },
  {
   "cell_type": "code",
   "execution_count": 2,
   "metadata": {},
   "outputs": [],
   "source": [
    "# Import functions used in the different notebooks of the course project\n",
    "%run Tools.ipynb"
   ]
  },
  {
   "cell_type": "code",
   "execution_count": 3,
   "metadata": {},
   "outputs": [],
   "source": [
    "import os\n",
    "import numpy as np\n",
    "import pandas as pd\n",
    "import matplotlib.pyplot as plt\n",
    "%matplotlib inline\n",
    "\n",
    "import datetime\n",
    "from sklearn.preprocessing import StandardScaler\n",
    "from sklearn.decomposition import PCA\n",
    "from sklearn.tree import DecisionTreeClassifier\n",
    "from sklearn.ensemble import RandomForestClassifier\n",
    "from sklearn.pipeline import Pipeline\n",
    "from sklearn.model_selection import ParameterGrid, StratifiedShuffleSplit"
   ]
  },
  {
   "cell_type": "markdown",
   "metadata": {},
   "source": [
    "## 1. Load & Split Datasets"
   ]
  },
  {
   "cell_type": "code",
   "execution_count": 4,
   "metadata": {},
   "outputs": [
    {
     "name": "stdout",
     "output_type": "stream",
     "text": [
      "Overfeat shape: (5000, 4096)\n",
      "Labels shape: (5000,)\n"
     ]
    }
   ],
   "source": [
    "# Load the overfeat dataset\n",
    "overfeat, _, labels, names = load_data()\n",
    "\n",
    "# Check shapes\n",
    "print('Overfeat shape:', overfeat.shape)\n",
    "print('Labels shape:', labels.shape)"
   ]
  },
  {
   "cell_type": "code",
   "execution_count": 5,
   "metadata": {},
   "outputs": [
    {
     "name": "stdout",
     "output_type": "stream",
     "text": [
      "Train shape: (4000, 4096) (4000,)\n",
      "Test shape: (1000, 4096) (1000,)\n",
      "\n",
      "Test Classes Distribution:\n"
     ]
    },
    {
     "data": {
      "text/plain": [
       "truck       250\n",
       "ship        250\n",
       "car         250\n",
       "airplane    250\n",
       "dtype: int64"
      ]
     },
     "execution_count": 5,
     "metadata": {},
     "output_type": "execute_result"
    }
   ],
   "source": [
    "# Split the train/test sets (4000/1000 stratified split)\n",
    "X_train, X_test, y_train, y_test = split_data_stratified(overfeat, labels)\n",
    "print('Train shape:', X_train.shape, y_train.shape)\n",
    "print('Test shape:', X_test.shape, y_test.shape)\n",
    "\n",
    "# Check the classes distribution in the test set\n",
    "print('\\nTest Classes Distribution:')\n",
    "pd.value_counts(names[y_test])"
   ]
  },
  {
   "cell_type": "markdown",
   "metadata": {},
   "source": [
    "## 2. Decision Tree"
   ]
  },
  {
   "cell_type": "markdown",
   "metadata": {},
   "source": [
    "Decision trees tend to quickly overfit the training data as its depth increase. Because trees segment the predictor space into a number of regions, we can expect that applying PCA to reduce the number of dimensions of this space by building higher level predictors and keep a huge proportion of the original variance should be profitable for the accuracy of our predictions. So, for this simple decision tree model, we will just keep 90% of the variance by using 176 PCA components and try to find the best tree depth in the [1, 20] range by applying grid search. \n",
    "\n",
    "The task asks to don't use cross-validation. Instead, we will use the validation set approach, i.e., randomly splitting the training/validation sets multiple times and compute the model on each split for each hyperparameters. Note that this approach is less efficient than cross-validation because the variability of the validation curves obtained for each train/validation sets splits. Averaging the curves, improve of course the results but we will tend to overestimate the test error (underestimate the test accuracy) because each time, the model is trained with a part of the overall data without guarantee to see all of them as it is the case for cross-validation that see each data (k-1) times. "
   ]
  },
  {
   "cell_type": "code",
   "execution_count": 6,
   "metadata": {
    "scrolled": true
   },
   "outputs": [],
   "source": [
    "# Hyperparameters\n",
    "dt__max_depth = np.arange(1, 21)\n",
    "\n",
    "# Grid search calculation if not already computed previously or forced\n",
    "if RUN_CALCULATION | (os.path.exists(TREE_GRID_FILEPATH) == False):\n",
    "    \n",
    "    # Pipeline estimator\n",
    "    pipe = Pipeline([\n",
    "        ('scaler', StandardScaler()),\n",
    "        ('pca', PCA(n_components=176, random_state=0)),  # 90% variance\n",
    "        ('dt', DecisionTreeClassifier(criterion='gini', random_state=0))\n",
    "    ])\n",
    "\n",
    "    # Grid parameters\n",
    "    grid = ParameterGrid(\n",
    "        {\n",
    "            'dt__max_depth': dt__max_depth\n",
    "        } \n",
    "    )\n",
    "\n",
    "    # Stratified Shuffle Split\n",
    "    sss = StratifiedShuffleSplit(n_splits=10, test_size=800, random_state=0)\n",
    "\n",
    "    # Progres status variables\n",
    "    n_steps = len(grid)\n",
    "    i = 1\n",
    "\n",
    "    # Grid Search\n",
    "    scores = []\n",
    "    for params_dict in grid:\n",
    "    \n",
    "        # print progress status\n",
    "        print('{} | {}/{} : max depth = {}'.format(\n",
    "            datetime.datetime.now().time(), \n",
    "            i, \n",
    "            n_steps,\n",
    "            params_dict['dt__max_depth']))\n",
    "    \n",
    "        i += 1\n",
    "    \n",
    "        # set hyperparameters\n",
    "        pipe.set_params(**params_dict)\n",
    "    \n",
    "        # validation set approach\n",
    "        train_accuracy = []\n",
    "        validation_accuracy = []\n",
    "        for idx_train, idx_valid in sss.split(X_train, y_train):\n",
    "        \n",
    "            # training set\n",
    "            X = X_train[idx_train]\n",
    "            y = y_train[idx_train]\n",
    "        \n",
    "            # validation set\n",
    "            X_valid = X_train[idx_valid]\n",
    "            y_valid = y_train[idx_valid]\n",
    "        \n",
    "            # fit model\n",
    "            pipe.fit(X, y)\n",
    "    \n",
    "            # train accuracy\n",
    "            train_accuracy.append(pipe.score(X, y))\n",
    "    \n",
    "            # validation accuracy\n",
    "            validation_accuracy.append(pipe.score(X_valid, y_valid))\n",
    "    \n",
    "        # Compute the mean of the accuracies obtained on each split\n",
    "        params_dict['training_accuracy']   = np.mean(train_accuracy)\n",
    "        params_dict['training_std'] = np.std(train_accuracy)\n",
    "        params_dict['validation_accuracy'] = np.mean(validation_accuracy) \n",
    "        params_dict['validation_std'] = np.std(validation_accuracy)\n",
    "        \n",
    "        # accuracy difference\n",
    "        params_dict['delta accuracy'] = params_dict['training_accuracy'] - params_dict['validation_accuracy']\n",
    "    \n",
    "        # save results with hyperparameters \n",
    "        scores.append(params_dict)\n",
    "    \n",
    "    # Save results in a numpy file\n",
    "    np.save(TREE_GRID_FILEPATH, scores)\n",
    "else:\n",
    "    # Load the grid scores results from file\n",
    "    scores = list(np.load(TREE_GRID_FILEPATH, allow_pickle=True))"
   ]
  },
  {
   "cell_type": "code",
   "execution_count": 7,
   "metadata": {},
   "outputs": [
    {
     "data": {
      "text/html": [
       "<div>\n",
       "<style scoped>\n",
       "    .dataframe tbody tr th:only-of-type {\n",
       "        vertical-align: middle;\n",
       "    }\n",
       "\n",
       "    .dataframe tbody tr th {\n",
       "        vertical-align: top;\n",
       "    }\n",
       "\n",
       "    .dataframe thead th {\n",
       "        text-align: right;\n",
       "    }\n",
       "</style>\n",
       "<table border=\"1\" class=\"dataframe\">\n",
       "  <thead>\n",
       "    <tr style=\"text-align: right;\">\n",
       "      <th></th>\n",
       "      <th>delta accuracy</th>\n",
       "      <th>dt__max_depth</th>\n",
       "      <th>training_accuracy</th>\n",
       "      <th>training_std</th>\n",
       "      <th>validation_accuracy</th>\n",
       "      <th>validation_std</th>\n",
       "    </tr>\n",
       "  </thead>\n",
       "  <tbody>\n",
       "    <tr>\n",
       "      <th>4</th>\n",
       "      <td>0.050406</td>\n",
       "      <td>5</td>\n",
       "      <td>0.712406</td>\n",
       "      <td>0.006617</td>\n",
       "      <td>0.662000</td>\n",
       "      <td>0.012135</td>\n",
       "    </tr>\n",
       "    <tr>\n",
       "      <th>5</th>\n",
       "      <td>0.100719</td>\n",
       "      <td>6</td>\n",
       "      <td>0.754844</td>\n",
       "      <td>0.006843</td>\n",
       "      <td>0.654125</td>\n",
       "      <td>0.019252</td>\n",
       "    </tr>\n",
       "    <tr>\n",
       "      <th>3</th>\n",
       "      <td>0.020062</td>\n",
       "      <td>4</td>\n",
       "      <td>0.673937</td>\n",
       "      <td>0.004473</td>\n",
       "      <td>0.653875</td>\n",
       "      <td>0.012418</td>\n",
       "    </tr>\n",
       "    <tr>\n",
       "      <th>6</th>\n",
       "      <td>0.153312</td>\n",
       "      <td>7</td>\n",
       "      <td>0.803937</td>\n",
       "      <td>0.007755</td>\n",
       "      <td>0.650625</td>\n",
       "      <td>0.016281</td>\n",
       "    </tr>\n",
       "    <tr>\n",
       "      <th>2</th>\n",
       "      <td>0.008219</td>\n",
       "      <td>3</td>\n",
       "      <td>0.645469</td>\n",
       "      <td>0.005843</td>\n",
       "      <td>0.637250</td>\n",
       "      <td>0.024474</td>\n",
       "    </tr>\n",
       "    <tr>\n",
       "      <th>7</th>\n",
       "      <td>0.221187</td>\n",
       "      <td>8</td>\n",
       "      <td>0.857812</td>\n",
       "      <td>0.009178</td>\n",
       "      <td>0.636625</td>\n",
       "      <td>0.008442</td>\n",
       "    </tr>\n",
       "    <tr>\n",
       "      <th>8</th>\n",
       "      <td>0.278375</td>\n",
       "      <td>9</td>\n",
       "      <td>0.904375</td>\n",
       "      <td>0.008375</td>\n",
       "      <td>0.626000</td>\n",
       "      <td>0.015246</td>\n",
       "    </tr>\n",
       "    <tr>\n",
       "      <th>1</th>\n",
       "      <td>0.005344</td>\n",
       "      <td>2</td>\n",
       "      <td>0.624594</td>\n",
       "      <td>0.006162</td>\n",
       "      <td>0.619250</td>\n",
       "      <td>0.020813</td>\n",
       "    </tr>\n",
       "    <tr>\n",
       "      <th>9</th>\n",
       "      <td>0.322500</td>\n",
       "      <td>10</td>\n",
       "      <td>0.938500</td>\n",
       "      <td>0.006907</td>\n",
       "      <td>0.616000</td>\n",
       "      <td>0.015800</td>\n",
       "    </tr>\n",
       "    <tr>\n",
       "      <th>10</th>\n",
       "      <td>0.352469</td>\n",
       "      <td>11</td>\n",
       "      <td>0.961344</td>\n",
       "      <td>0.006851</td>\n",
       "      <td>0.608875</td>\n",
       "      <td>0.014147</td>\n",
       "    </tr>\n",
       "    <tr>\n",
       "      <th>11</th>\n",
       "      <td>0.370531</td>\n",
       "      <td>12</td>\n",
       "      <td>0.976406</td>\n",
       "      <td>0.006542</td>\n",
       "      <td>0.605875</td>\n",
       "      <td>0.012513</td>\n",
       "    </tr>\n",
       "    <tr>\n",
       "      <th>13</th>\n",
       "      <td>0.389156</td>\n",
       "      <td>14</td>\n",
       "      <td>0.989531</td>\n",
       "      <td>0.003823</td>\n",
       "      <td>0.600375</td>\n",
       "      <td>0.014121</td>\n",
       "    </tr>\n",
       "    <tr>\n",
       "      <th>12</th>\n",
       "      <td>0.384656</td>\n",
       "      <td>13</td>\n",
       "      <td>0.985031</td>\n",
       "      <td>0.004779</td>\n",
       "      <td>0.600375</td>\n",
       "      <td>0.014460</td>\n",
       "    </tr>\n",
       "    <tr>\n",
       "      <th>17</th>\n",
       "      <td>0.399500</td>\n",
       "      <td>18</td>\n",
       "      <td>0.997250</td>\n",
       "      <td>0.001361</td>\n",
       "      <td>0.597750</td>\n",
       "      <td>0.014956</td>\n",
       "    </tr>\n",
       "    <tr>\n",
       "      <th>18</th>\n",
       "      <td>0.402219</td>\n",
       "      <td>19</td>\n",
       "      <td>0.997969</td>\n",
       "      <td>0.001094</td>\n",
       "      <td>0.595750</td>\n",
       "      <td>0.014939</td>\n",
       "    </tr>\n",
       "    <tr>\n",
       "      <th>15</th>\n",
       "      <td>0.398781</td>\n",
       "      <td>16</td>\n",
       "      <td>0.994281</td>\n",
       "      <td>0.003030</td>\n",
       "      <td>0.595500</td>\n",
       "      <td>0.017295</td>\n",
       "    </tr>\n",
       "    <tr>\n",
       "      <th>19</th>\n",
       "      <td>0.403219</td>\n",
       "      <td>20</td>\n",
       "      <td>0.998594</td>\n",
       "      <td>0.000730</td>\n",
       "      <td>0.595375</td>\n",
       "      <td>0.014695</td>\n",
       "    </tr>\n",
       "    <tr>\n",
       "      <th>14</th>\n",
       "      <td>0.397875</td>\n",
       "      <td>15</td>\n",
       "      <td>0.992750</td>\n",
       "      <td>0.003543</td>\n",
       "      <td>0.594875</td>\n",
       "      <td>0.014900</td>\n",
       "    </tr>\n",
       "    <tr>\n",
       "      <th>16</th>\n",
       "      <td>0.401531</td>\n",
       "      <td>17</td>\n",
       "      <td>0.996156</td>\n",
       "      <td>0.002001</td>\n",
       "      <td>0.594625</td>\n",
       "      <td>0.011265</td>\n",
       "    </tr>\n",
       "    <tr>\n",
       "      <th>0</th>\n",
       "      <td>0.002719</td>\n",
       "      <td>1</td>\n",
       "      <td>0.452719</td>\n",
       "      <td>0.001972</td>\n",
       "      <td>0.450000</td>\n",
       "      <td>0.007925</td>\n",
       "    </tr>\n",
       "  </tbody>\n",
       "</table>\n",
       "</div>"
      ],
      "text/plain": [
       "    delta accuracy  dt__max_depth  training_accuracy  training_std  \\\n",
       "4         0.050406              5           0.712406      0.006617   \n",
       "5         0.100719              6           0.754844      0.006843   \n",
       "3         0.020062              4           0.673937      0.004473   \n",
       "6         0.153312              7           0.803937      0.007755   \n",
       "2         0.008219              3           0.645469      0.005843   \n",
       "7         0.221187              8           0.857812      0.009178   \n",
       "8         0.278375              9           0.904375      0.008375   \n",
       "1         0.005344              2           0.624594      0.006162   \n",
       "9         0.322500             10           0.938500      0.006907   \n",
       "10        0.352469             11           0.961344      0.006851   \n",
       "11        0.370531             12           0.976406      0.006542   \n",
       "13        0.389156             14           0.989531      0.003823   \n",
       "12        0.384656             13           0.985031      0.004779   \n",
       "17        0.399500             18           0.997250      0.001361   \n",
       "18        0.402219             19           0.997969      0.001094   \n",
       "15        0.398781             16           0.994281      0.003030   \n",
       "19        0.403219             20           0.998594      0.000730   \n",
       "14        0.397875             15           0.992750      0.003543   \n",
       "16        0.401531             17           0.996156      0.002001   \n",
       "0         0.002719              1           0.452719      0.001972   \n",
       "\n",
       "    validation_accuracy  validation_std  \n",
       "4              0.662000        0.012135  \n",
       "5              0.654125        0.019252  \n",
       "3              0.653875        0.012418  \n",
       "6              0.650625        0.016281  \n",
       "2              0.637250        0.024474  \n",
       "7              0.636625        0.008442  \n",
       "8              0.626000        0.015246  \n",
       "1              0.619250        0.020813  \n",
       "9              0.616000        0.015800  \n",
       "10             0.608875        0.014147  \n",
       "11             0.605875        0.012513  \n",
       "13             0.600375        0.014121  \n",
       "12             0.600375        0.014460  \n",
       "17             0.597750        0.014956  \n",
       "18             0.595750        0.014939  \n",
       "15             0.595500        0.017295  \n",
       "19             0.595375        0.014695  \n",
       "14             0.594875        0.014900  \n",
       "16             0.594625        0.011265  \n",
       "0              0.450000        0.007925  "
      ]
     },
     "execution_count": 7,
     "metadata": {},
     "output_type": "execute_result"
    }
   ],
   "source": [
    "# Create a DataFrame to analyze the grid search results\n",
    "df = pd.DataFrame(scores)\n",
    "\n",
    "# Show the hyperparameters for the best validation accuracy\n",
    "df_best_scores = df.sort_values(by='validation_accuracy', ascending=False)\n",
    "df_best_scores.head(20)"
   ]
  },
  {
   "cell_type": "code",
   "execution_count": 8,
   "metadata": {},
   "outputs": [
    {
     "data": {
      "image/png": "[encoded data removed]",
      "text/plain": [
       "<matplotlib.figure.Figure at 0x1112957b8>"
      ]
     },
     "metadata": {
      "needs_background": "light"
     },
     "output_type": "display_data"
    }
   ],
   "source": [
    "# Plot the training and validation curves\n",
    "plt.figure(figsize=(10, 10))\n",
    "plt.plot(df.dt__max_depth, df.training_accuracy, label='train')\n",
    "plt.plot(df.dt__max_depth, df.validation_accuracy, label='validation')\n",
    "plt.errorbar(df.dt__max_depth, df.training_accuracy, df.training_std, linestyle='None', marker='.', capsize=3, color='blue', label=None)\n",
    "plt.errorbar(df.dt__max_depth, df.validation_accuracy, df.validation_std, linestyle='None', marker='.', capsize=3, color='orange', label=None)\n",
    "plt.title('Training and validation curves | PCA N components: 176, stratified shuffle splits: 10')\n",
    "plt.xlabel('Max Depth')\n",
    "plt.ylabel('Accuracy')\n",
    "plt.xticks(np.arange(1, 21))\n",
    "plt.legend()\n",
    "plt.show()"
   ]
  },
  {
   "cell_type": "markdown",
   "metadata": {},
   "source": [
    "As we can see, the tree overfit quickly the training data and we see that the optimum depth is around 5. The error bar shows the variability of the validation curves. Lack of robustness is one of the disadvantage of decision trees, small change in data can cause a large change in the final estimated tree. Overall, we have an accuracy around 65% that is clearly less good than the 78% obtained with our kNN model. Random forest will help us to solve these two issues...\n",
    "\n",
    "Which hyperparameter should we use for this model ?\n",
    "* depth = 5 => best validation accuracy with 66.2% but a difference of 5% with the training accuracy (overfitting)\n",
    "* depth = 4 => 65.4% validation accuracy (loss 1%) but with a difference of 2% with the training accuracy\n",
    "* depth = 3 => 63.7% validation accuracy (loss 2.5%) but with a difference of less than 1% with the training accuracy and error bar that shows an important variance at this depth\n",
    "\n",
    "Personally, I would go for a decision tree with a depth of 4 as it looks like a good compromise, but without the huge standard deviation of the model with depth of 3, I would probably choose this one. The model with a depth of 5 is clearly overfitting the training data. \n",
    "\n",
    "To select the best model with code, let's build a function that return the model with the best accuracy but with a difference between the training and validation accuracies less than a threshold:"
   ]
  },
  {
   "cell_type": "code",
   "execution_count": 9,
   "metadata": {},
   "outputs": [],
   "source": [
    "# function that return the model with the best validation accuracy\n",
    "# with a difference between the training & validation accuracies less than a threshold\n",
    "def best_model_from_delta_accuracy(models, threshold=0.025):\n",
    "    best_model = None\n",
    "    for model in models:\n",
    "        delta = model['training_accuracy'] - model['validation_accuracy']\n",
    "        if delta < threshold:\n",
    "            if best_model:\n",
    "                if model['validation_accuracy'] > best_model['validation_accuracy']:\n",
    "                    best_model = model\n",
    "            else:\n",
    "                best_model = model\n",
    "                \n",
    "    return best_model"
   ]
  },
  {
   "cell_type": "code",
   "execution_count": 10,
   "metadata": {},
   "outputs": [
    {
     "name": "stdout",
     "output_type": "stream",
     "text": [
      "Top accuracy on validation set: 0.654 with depth: 4\n"
     ]
    }
   ],
   "source": [
    "# Get the best model with a difference of accuracy less than 2.5%\n",
    "best_model = best_model_from_delta_accuracy(scores, threshold=0.025)\n",
    "\n",
    "# Print the hyperparameters of the best model\n",
    "print('Top accuracy on validation set: {:.3f} with depth: {}'.format(\n",
    "    best_model['validation_accuracy'],\n",
    "    best_model['dt__max_depth']\n",
    "))"
   ]
  },
  {
   "cell_type": "markdown",
   "metadata": {},
   "source": [
    "### Decision tree accuracy on the test set"
   ]
  },
  {
   "cell_type": "markdown",
   "metadata": {},
   "source": [
    "Decision tree accuracy on test set with these hyperparameters:\n",
    "* PCA n components: 176\n",
    "* Max depth: 4\n",
    "* Criterion: Gini"
   ]
  },
  {
   "cell_type": "code",
   "execution_count": 11,
   "metadata": {},
   "outputs": [
    {
     "name": "stdout",
     "output_type": "stream",
     "text": [
      "Decision tree accuracy (train set): 0.678\n",
      "Decision tree accuracy (test set): 0.666\n"
     ]
    }
   ],
   "source": [
    "if RUN_CALCULATION | (os.path.exists(TREE_MODEL_FILEPATH) == False):\n",
    "    \n",
    "    # Pipeline estimator\n",
    "    tree_model = Pipeline([\n",
    "        ('scaler', StandardScaler()),\n",
    "        ('pca', PCA(n_components=176, random_state=0)),\n",
    "        ('dt', DecisionTreeClassifier(max_depth=best_model['dt__max_depth'], criterion='gini', random_state=0))\n",
    "    ])\n",
    "\n",
    "    # Fit model on the full train set\n",
    "    tree_model.fit(X_train, y_train)\n",
    "    \n",
    "    # Save model in a numpy file\n",
    "    np.save(TREE_MODEL_FILEPATH, tree_model)\n",
    "else:\n",
    "    # Load the grid scores results from file\n",
    "    tree_model = np.load(TREE_MODEL_FILEPATH, allow_pickle=True).item(0)\n",
    "\n",
    "# Evaluate accuracy on the test set\n",
    "train_accuracy = tree_model.score(X_train, y_train)\n",
    "test_accuracy = tree_model.score(X_test, y_test)\n",
    "print('Decision tree accuracy (train set): {:.3f}'.format(train_accuracy))\n",
    "print('Decision tree accuracy (test set): {:.3f}'.format(test_accuracy))"
   ]
  },
  {
   "cell_type": "markdown",
   "metadata": {},
   "source": [
    "Here we have train the model with all the training data and we observe as expected that the validation set approach tends to underestimate the test accuracy.  \n",
    "The train and test accuracies are close, with a touch of overfitting."
   ]
  },
  {
   "cell_type": "markdown",
   "metadata": {},
   "source": [
    "# 3. Random Forest"
   ]
  },
  {
   "cell_type": "markdown",
   "metadata": {},
   "source": [
    "We know that decision trees overfit quickly the training data, so tend to have low bias but high variance, its apparant lack of robustness. Random forest reduces this variance. It achieves it by bootstraping the training data and building one tree (without depth limit) from each bootstraped dataset. Each tree will predict a class for a test data point and the most-frequent predicted class will be the one given to the point. As a result, random forest reduces the variance without bias trade-off (but at the expense of model interpretability). This approach is called bagging and it is in fact just one part of the story, next part comming soon..."
   ]
  },
  {
   "cell_type": "code",
   "execution_count": 12,
   "metadata": {
    "scrolled": true
   },
   "outputs": [],
   "source": [
    "# Hyperparameters\n",
    "rf__n_estimators = [1, 10, 20, 50, 100, 200, 400, 800, 1600, 3200, 6400]\n",
    "\n",
    "# Grid search calculation if not already computed previously or forced\n",
    "if RUN_CALCULATION | (os.path.exists(FOREST_GRID_FILEPATH) == False):\n",
    "    \n",
    "    # Pipeline estimator\n",
    "    pipe = Pipeline([\n",
    "        ('scaler', StandardScaler()),\n",
    "        ('pca', PCA(n_components=176, random_state=0)),\n",
    "        ('rf', RandomForestClassifier(max_depth=None, criterion='gini', max_features='sqrt', random_state=0, n_jobs=-1))\n",
    "    ])\n",
    "\n",
    "    # Grid parameters\n",
    "    grid = ParameterGrid(\n",
    "        {\n",
    "            'rf__n_estimators': rf__n_estimators,\n",
    "        }\n",
    "    )\n",
    "\n",
    "    # Stratified Shuffle Split\n",
    "    sss = StratifiedShuffleSplit(n_splits=10, test_size=800, random_state=0)\n",
    "\n",
    "    # Progres status variables\n",
    "    n_steps = len(grid)\n",
    "    i = 1\n",
    "\n",
    "    # Grid Search\n",
    "    scores = []\n",
    "    for params_dict in grid:\n",
    "    \n",
    "        # print progress status\n",
    "        print('{} | {}/{} : ensemble = {}'.format(\n",
    "            datetime.datetime.now().time(), \n",
    "            i, \n",
    "            n_steps,\n",
    "            params_dict['rf__n_estimators']))\n",
    "    \n",
    "        i += 1\n",
    "    \n",
    "        # set hyperparameters\n",
    "        pipe.set_params(**params_dict)\n",
    "    \n",
    "        # validation set approach\n",
    "        validation_accuracy = []\n",
    "        for idx_train, idx_valid in sss.split(X_train, y_train):\n",
    "        \n",
    "            # training set\n",
    "            X = X_train[idx_train]\n",
    "            y = y_train[idx_train]\n",
    "        \n",
    "            # validation set\n",
    "            X_valid = X_train[idx_valid]\n",
    "            y_valid = y_train[idx_valid]\n",
    "        \n",
    "            # fit model\n",
    "            pipe.fit(X, y)\n",
    "    \n",
    "            # validation accuracy\n",
    "            validation_accuracy.append(pipe.score(X_valid, y_valid))\n",
    "    \n",
    "        # Compute the mean of the validation accuracy obtained on each split\n",
    "        params_dict['validation_accuracy'] = np.mean(validation_accuracy) \n",
    "     \n",
    "        # save results with hyperparameters \n",
    "        scores.append(params_dict)\n",
    "        \n",
    "    # Save results in a numpy file\n",
    "    np.save(FOREST_GRID_FILEPATH, scores)\n",
    "else:\n",
    "    # Load the grid scores results from file\n",
    "    scores = list(np.load(FOREST_GRID_FILEPATH, allow_pickle=True))"
   ]
  },
  {
   "cell_type": "code",
   "execution_count": 13,
   "metadata": {},
   "outputs": [
    {
     "data": {
      "text/html": [
       "<div>\n",
       "<style scoped>\n",
       "    .dataframe tbody tr th:only-of-type {\n",
       "        vertical-align: middle;\n",
       "    }\n",
       "\n",
       "    .dataframe tbody tr th {\n",
       "        vertical-align: top;\n",
       "    }\n",
       "\n",
       "    .dataframe thead th {\n",
       "        text-align: right;\n",
       "    }\n",
       "</style>\n",
       "<table border=\"1\" class=\"dataframe\">\n",
       "  <thead>\n",
       "    <tr style=\"text-align: right;\">\n",
       "      <th></th>\n",
       "      <th>rf__n_estimators</th>\n",
       "      <th>validation_accuracy</th>\n",
       "    </tr>\n",
       "  </thead>\n",
       "  <tbody>\n",
       "    <tr>\n",
       "      <th>10</th>\n",
       "      <td>6400</td>\n",
       "      <td>0.781875</td>\n",
       "    </tr>\n",
       "    <tr>\n",
       "      <th>9</th>\n",
       "      <td>3200</td>\n",
       "      <td>0.780625</td>\n",
       "    </tr>\n",
       "    <tr>\n",
       "      <th>8</th>\n",
       "      <td>1600</td>\n",
       "      <td>0.780375</td>\n",
       "    </tr>\n",
       "    <tr>\n",
       "      <th>7</th>\n",
       "      <td>800</td>\n",
       "      <td>0.779500</td>\n",
       "    </tr>\n",
       "    <tr>\n",
       "      <th>6</th>\n",
       "      <td>400</td>\n",
       "      <td>0.779000</td>\n",
       "    </tr>\n",
       "    <tr>\n",
       "      <th>5</th>\n",
       "      <td>200</td>\n",
       "      <td>0.774500</td>\n",
       "    </tr>\n",
       "    <tr>\n",
       "      <th>4</th>\n",
       "      <td>100</td>\n",
       "      <td>0.763125</td>\n",
       "    </tr>\n",
       "    <tr>\n",
       "      <th>3</th>\n",
       "      <td>50</td>\n",
       "      <td>0.730625</td>\n",
       "    </tr>\n",
       "    <tr>\n",
       "      <th>2</th>\n",
       "      <td>20</td>\n",
       "      <td>0.677375</td>\n",
       "    </tr>\n",
       "    <tr>\n",
       "      <th>1</th>\n",
       "      <td>10</td>\n",
       "      <td>0.621125</td>\n",
       "    </tr>\n",
       "    <tr>\n",
       "      <th>0</th>\n",
       "      <td>1</td>\n",
       "      <td>0.516375</td>\n",
       "    </tr>\n",
       "  </tbody>\n",
       "</table>\n",
       "</div>"
      ],
      "text/plain": [
       "    rf__n_estimators  validation_accuracy\n",
       "10              6400             0.781875\n",
       "9               3200             0.780625\n",
       "8               1600             0.780375\n",
       "7                800             0.779500\n",
       "6                400             0.779000\n",
       "5                200             0.774500\n",
       "4                100             0.763125\n",
       "3                 50             0.730625\n",
       "2                 20             0.677375\n",
       "1                 10             0.621125\n",
       "0                  1             0.516375"
      ]
     },
     "execution_count": 13,
     "metadata": {},
     "output_type": "execute_result"
    }
   ],
   "source": [
    "# Create a DataFrame to analyze the grid search results\n",
    "df = pd.DataFrame(scores)\n",
    "\n",
    "# Show the hyperparameters for the best validation accuracy\n",
    "df_best_scores = df.sort_values(by='validation_accuracy', ascending=False)\n",
    "df_best_scores.head(20)"
   ]
  },
  {
   "cell_type": "code",
   "execution_count": 14,
   "metadata": {},
   "outputs": [
    {
     "data": {
      "image/png": "[encoded data removed]",
      "text/plain": [
       "<matplotlib.figure.Figure at 0x10b0c6f60>"
      ]
     },
     "metadata": {
      "needs_background": "light"
     },
     "output_type": "display_data"
    }
   ],
   "source": [
    "# Plot the validation curve\n",
    "plt.figure(figsize=(10, 10), )\n",
    "plt.semilogx(df.rf__n_estimators, df.validation_accuracy)\n",
    "plt.title('Validation curve in logaritmic scale | PCA N components: 176, stratified shuffle splits: 10')\n",
    "plt.xlabel('Size of ensemble')\n",
    "plt.ylabel('Validation accuracy')\n",
    "plt.show()"
   ]
  },
  {
   "cell_type": "markdown",
   "metadata": {},
   "source": [
    "Note that the validation accuracy for a size of ensemble of one tree is only 51% but was around 66% in our decision tree model. It is because random forest go a step further than bagging by forcing each tree to be different than the previous one (at each split, the split can be done only on a randomly drawn subset of the predictors). As a result, random forest build a forest of heterogeneous/decorralated trees; the strongest predictors are not always at the top of the trees and so, about 20 trees are necessary to obtain a better accuracy than our decision tree model.\n",
    "\n",
    "However, as we can see, with the number of trees increasing, the validation accuracy is drastically improved and reach an accuracy around 78% (same score as our kNN model). It is an amazing improvement !\n",
    "\n",
    "Even if the accuracy seems to increase monotonically with the size of ensemble, 800 trees are probably enough."
   ]
  },
  {
   "cell_type": "markdown",
   "metadata": {},
   "source": [
    "### Random forest accuracy on the test set"
   ]
  },
  {
   "cell_type": "markdown",
   "metadata": {},
   "source": [
    "Random forest accuracy on test set with these hyperparameters:\n",
    "* PCA n components: 176\n",
    "* Size of ensemble: 800\n",
    "* Max depth: None\n",
    "* Max features split: sqrt (same as auto)\n",
    "* Criterion: Gini"
   ]
  },
  {
   "cell_type": "code",
   "execution_count": 15,
   "metadata": {},
   "outputs": [
    {
     "name": "stdout",
     "output_type": "stream",
     "text": [
      "Random forest accuracy (test set): 0.781\n"
     ]
    }
   ],
   "source": [
    "if RUN_CALCULATION | (os.path.exists(FOREST_MODEL_FILEPATH) == False):\n",
    "    \n",
    "    # Pipeline estimator\n",
    "    forest_model = Pipeline([\n",
    "        ('scaler', StandardScaler()),\n",
    "        ('pca', PCA(n_components=176, random_state=0)),\n",
    "        ('rf', RandomForestClassifier(n_estimators=800, max_depth=None, criterion='gini', max_features='sqrt', random_state=0, n_jobs=-1))\n",
    "    ])\n",
    "\n",
    "    # Fit model on the full train set\n",
    "    forest_model.fit(X_train, y_train)\n",
    "    \n",
    "    # Save model in a numpy file\n",
    "    np.save(FOREST_MODEL_FILEPATH, forest_model)\n",
    "else:\n",
    "    # Load the grid scores results from file\n",
    "    forest_model = np.load(FOREST_MODEL_FILEPATH, allow_pickle=True).item(0)\n",
    "    \n",
    "# Evaluate accuracy on the test set\n",
    "test_accuracy = forest_model.score(X_test, y_test)\n",
    "print('Random forest accuracy (test set): {:.3f}'.format(test_accuracy))"
   ]
  },
  {
   "cell_type": "markdown",
   "metadata": {},
   "source": [
    "We obtain a test accuracy of 78% as expected from the validation accuracy obtained during the hyperparameters tuning."
   ]
  }
 ],
 "metadata": {
  "kernelspec": {
   "display_name": "Python 3",
   "language": "python",
   "name": "python3"
  },
  "language_info": {
   "codemirror_mode": {
    "name": "ipython",
    "version": 3
   },
   "file_extension": ".py",
   "mimetype": "text/x-python",
   "name": "python",
   "nbconvert_exporter": "python",
   "pygments_lexer": "ipython3",
   "version": "3.8.5"
  }
 },
 "nbformat": 4,
 "nbformat_minor": 2
}
