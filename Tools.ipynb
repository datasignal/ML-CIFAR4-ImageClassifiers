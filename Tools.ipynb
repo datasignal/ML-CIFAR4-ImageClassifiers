{
 "cells": [
  {
   "cell_type": "code",
   "execution_count": 1,
   "metadata": {},
   "outputs": [],
   "source": [
    "import numpy as np\n",
    "from sklearn.model_selection import train_test_split"
   ]
  },
  {
   "cell_type": "code",
   "execution_count": 2,
   "metadata": {},
   "outputs": [],
   "source": [
    "# Load the data and return the tuple (overfeat, pixels, labels, names)\n",
    "def load_data():\n",
    "    with np.load('cifar4-train.npz', allow_pickle=False) as npz:            \n",
    "        overfeat = npz['overfeat'].astype(np.float32)\n",
    "        pixels   = npz['pixels'].astype(np.float32)\n",
    "        labels   = npz['labels'].astype(np.int32)\n",
    "        names    = npz['names']\n",
    "        \n",
    "    return (overfeat, pixels, labels, names)"
   ]
  },
  {
   "cell_type": "code",
   "execution_count": 3,
   "metadata": {},
   "outputs": [],
   "source": [
    "# Split the data into train/test sets with a test size of 1000 by default\n",
    "# The proportion of each classes is conserved (stratified split)\n",
    "def split_data_stratified(X, y, test_size=1000):\n",
    "   return train_test_split(X, y, test_size=test_size, random_state=0, shuffle=True, stratify=y) "
   ]
  }
 ],
 "metadata": {
  "kernelspec": {
   "display_name": "Python 3",
   "language": "python",
   "name": "python3"
  },
  "language_info": {
   "codemirror_mode": {
    "name": "ipython",
    "version": 3
   },
   "file_extension": ".py",
   "mimetype": "text/x-python",
   "name": "python",
   "nbconvert_exporter": "python",
   "pygments_lexer": "ipython3",
   "version": "3.6.4"
  }
 },
 "nbformat": 4,
 "nbformat_minor": 2
}
